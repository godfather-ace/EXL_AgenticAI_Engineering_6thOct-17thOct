{
 "cells": [
  {
   "cell_type": "markdown",
   "id": "d27d9624",
   "metadata": {},
   "source": [
    "### Install the libraries"
   ]
  },
  {
   "cell_type": "code",
   "execution_count": null,
   "id": "792dd53f",
   "metadata": {},
   "outputs": [],
   "source": [
    "!pip install langsmith openinference-instrumentation-autogen openinference-instrumentation-groq -q"
   ]
  },
  {
   "cell_type": "code",
   "execution_count": 1,
   "id": "6db09fd7",
   "metadata": {},
   "outputs": [
    {
     "name": "stdout",
     "output_type": "stream",
     "text": [
      "\u001b[33mUser Agent\u001b[0m (to Assistant):\n",
      "\n",
      "\n",
      "\n",
      "--------------------------------------------------------------------------------\n",
      "\u001b[31m\n",
      ">>>>>>>> USING AUTO REPLY...\u001b[0m\n",
      "\u001b[33mAssistant\u001b[0m (to User Agent):\n",
      "\n",
      "Welcome to our travel assistance service. We're excited to help you plan your next adventure. To get started, can you please share a few details about your preferences?\n",
      "\n",
      "* What type of vacation are you looking for (beach, city, nature, adventure, food, culture, etc.)?\n",
      "* Are you traveling solo, with friends, or with family?\n",
      "* What is your approximate budget for the trip?\n",
      "* Are you open to visiting new countries or looking for domestic travel recommendations?\n",
      "* What is your ideal length of stay (short weekend, 5-7 days, or longer)?\n",
      "* Do you have a specific time of year in mind or are you flexible with dates?\n",
      "* Are there any specific activities or experiences you're interested in (hiking, exploring historical sites, food tours, etc.)?\n",
      "\n",
      "The more information you provide, the better I can tailor my recommendations to meet your needs and interests.\n",
      "\n",
      "--------------------------------------------------------------------------------\n"
     ]
    },
    {
     "name": "stderr",
     "output_type": "stream",
     "text": [
      "/Users/sachintripathi/Documents/Py_files/EXL_AgenticAI_Engineering/.venv/lib/python3.13/site-packages/autogen/oai/groq.py:315: UserWarning: Cost calculation not available for model llama-3.1-8b-instant\n",
      "  warnings.warn(f\"Cost calculation not available for model {model}\", UserWarning)\n",
      "Failed to export span batch code: 409, reason: \n",
      "\u001b\u0012\u0019payloads already received\n"
     ]
    },
    {
     "name": "stdout",
     "output_type": "stream",
     "text": [
      "\u001b[33mUser Agent\u001b[0m (to Assistant):\n",
      "\n",
      "I'm planning a city vacation solo, my approximate budget is 1000$, I'm open to visit new countries. The travel should be of 3 days and have some good sightseeing opportunities.\n",
      "\n",
      "--------------------------------------------------------------------------------\n",
      "\u001b[31m\n",
      ">>>>>>>> USING AUTO REPLY...\u001b[0m\n",
      "\u001b[33mAssistant\u001b[0m (to User Agent):\n",
      "\n",
      "Sounds like an exciting solo adventure! Based on your preferences, I've shortlisted three city destinations that offer great sightseeing opportunities and fit within your budget and time frame. Keep in mind that these suggestions can be modified according to your interests and preferences.\n",
      "\n",
      "**Destination 1: Prague, Czech Republic**\n",
      "\n",
      "* Approximate cost: $800 - $900 (accommodation, food, transportation, and attractions)\n",
      "* Duration: 3 days\n",
      "* Must-see attractions:\n",
      "\t+ Charles Bridge: A beautiful pedestrian bridge lined with statues and offering stunning views of the Vltava River\n",
      "\t+ Prague Castle: A historic castle complex that dates back to the 9th century, featuring stunning architecture and beautiful gardens\n",
      "\t+ Old Town Square: A vibrant area filled with street performers, cafes, and attractions like the Astronomical Clock\n",
      "\t+ Wenceslas Square: A grand square featuring a beautiful monument to Saint Wenceslas, the patron saint of the Czech Republic\n",
      "\n",
      "**Destination 2: Budapest, Hungary**\n",
      "\n",
      "* Approximate cost: $800 - $900 (accommodation, food, transportation, and attractions)\n",
      "* Duration: 3 days\n",
      "* Must-see attractions:\n",
      "\t+ Széchenyi Thermal Bath: A beautiful bath complex with stunning architecture and geothermal hot springs\n",
      "\t+ Buda Castle: A historic castle complex with stunning views of the Danube River and the Pest side of the city\n",
      "\t+ Parliament Building: An imposing building with stunning architecture and guided tours\n",
      "\t+ Hungarian State Opera House: A beautiful concert hall with guided tours of the auditorium and backstage areas\n",
      "\n",
      "**Destination 3: Krakow, Poland**\n",
      "\n",
      "* Approximate cost: $600 - $700 (accommodation, food, transportation, and attractions)\n",
      "* Duration: 3 days\n",
      "* Must-see attractions:\n",
      "\t+ Wawel Castle and Cathedral: A historic castle complex with stunning architecture and beautiful art collections\n",
      "\t+ Main Market Square: A vibrant area filled with street performers, cafes, and attractions like the Cloth Hall\n",
      "\t+ Wawel Dragon Statue: A beautiful statue and one of the city's most iconic landmarks\n",
      "\t+ Kazimierz District: A charming area filled with historic buildings, cafes, and cultural attractions\n",
      "\n",
      "All three destinations offer a rich cultural experience and are relatively safe for solo travelers. Considering your budget, Krakow might be the most affordable option. However, the other two cities offer a higher level of luxury and amenities, which might be worth considering if you're looking to treat yourself.\n",
      "\n",
      "Which of these destinations appeals to you the most? Or would you like me to suggest more options?\n",
      "\n",
      "--------------------------------------------------------------------------------\n"
     ]
    },
    {
     "name": "stderr",
     "output_type": "stream",
     "text": [
      "/Users/sachintripathi/Documents/Py_files/EXL_AgenticAI_Engineering/.venv/lib/python3.13/site-packages/autogen/oai/groq.py:315: UserWarning: Cost calculation not available for model llama-3.1-8b-instant\n",
      "  warnings.warn(f\"Cost calculation not available for model {model}\", UserWarning)\n",
      "Failed to export span batch code: 409, reason: \n",
      "\u001b\u0012\u0019payloads already received\n"
     ]
    },
    {
     "name": "stdout",
     "output_type": "stream",
     "text": [
      "\u001b[33mUser Agent\u001b[0m (to Assistant):\n",
      "\n",
      "Destination 1\n",
      "\n",
      "--------------------------------------------------------------------------------\n",
      "\u001b[31m\n",
      ">>>>>>>> USING AUTO REPLY...\u001b[0m\n",
      "\u001b[33mAssistant\u001b[0m (to User Agent):\n",
      "\n",
      "Prague is a beautiful and vibrant city with a rich history and culture. Here's a more detailed itinerary for your 3-day solo trip to Prague:\n",
      "\n",
      "**Day 1: Arrival and Exploration**\n",
      "\n",
      "* Arrive at Václav Havel Airport Prague (PRG)\n",
      "* Take a taxi or public transportation (bus 119 or train S9 to the city center) to your accommodation ( approx. $10-$20)\n",
      "* Check-in to your hotel and freshen up\n",
      "* Visit the Old Town Square (Old Town Hall, Astronomical Clock, and Street Performers)\n",
      "* Wander along the Vltava River to Charles Bridge ( approx. $1-$2 to cross the bridge)\n",
      "* Visit the St. Nicholas Church ( admission fee: $3-$5)\n",
      "* Enjoy traditional Czech cuisine and beer at a local pub or restaurant (approx. $10-$20 per meal)\n",
      "\n",
      "**Day 2: Castle District and Wenceslas Square**\n",
      "\n",
      "* Visit the Prague Castle complex (admission fee: $15-$20, includes access to St. Vitus Cathedral and the Old Royal Palace)\n",
      "* Explore the Castle District ( approx. $5-$10 to access the district)\n",
      "* Visit the St. Vitus Cathedral (free admission, but guided tours available for $10-$15)\n",
      "* Walk to Wenceslas Square and visit the National Museum (admission fee: $5-$10)\n",
      "* Explore the surrounding streets and visit the Spanish Synagogue (admission fee: $10-$15)\n",
      "\n",
      "**Day 3: More of Prague**\n",
      "\n",
      "* Visit the John Lennon Wall (free admission)\n",
      "* Explore the Lesser Town neighborhood and visit the Wallenstein Garden (free admission)\n",
      "* Visit the Museum of Communal Services (free admission)\n",
      "* Walk across the Charles Bridge again and enjoy the sunset\n",
      "* End your trip with a visit to the Old Town Hall for a great view of the city (admission fee: $10-$15)\n",
      "\n",
      "**Accommodation:**\n",
      "\n",
      "Prague offers a wide range of accommodations to suit all budgets and preferences. Some popular options for solo travelers include:\n",
      "\n",
      "* Hostel: Prague Downtown Hostel or MadHouse Prague (approx. $10-$20 per night)\n",
      "* Budget Hotel: Hotel Century or Hotel Europa (approx. $30-$50 per night)\n",
      "* Mid-range Hotel: Hotel Leonardo or Hotel Paris (approx. $60-$80 per night)\n",
      "* Luxury Hotel: Hotel Golden Age or Hotel Movenpick (approx. $100-$150 per night)\n",
      "\n",
      "** Transportation:**\n",
      "\n",
      "Public transportation in Prague is efficient and affordable. You can buy a 2-day or 3-day pass for $20-$30 that grants you access to buses, trams, and metro lines.\n",
      "\n",
      "**Tips and Safety:**\n",
      "\n",
      "* Be mindful of your belongings and keep an eye on your luggage in crowded areas\n",
      "* Use licensed taxis or ride-sharing services to ensure your safety\n",
      "* Try to avoid walking alone in dimly lit areas at night\n",
      "* Learn some basic Czech phrases to interact with locals and enjoy your trip even more\n",
      "\n",
      "**Budget Breakdown:**\n",
      "\n",
      "* Accommodation (avg. $40 per night): $120-$180 for 3 nights\n",
      "* Food and Drink (avg. $15 per meal): $60-$90 per day\n",
      "* Transportation (avg. $5 per ride): $10-$20 per day\n",
      "* Attractions and admission fees (avg. $15 per attraction): $30-$60 per day\n",
      "* Total estimated budget for 3 days: $820-$1,130\n",
      "\n",
      "This itinerary should provide a good balance of sightseeing, culture, and relaxation for your solo trip to Prague. Feel free to adjust it according to your preferences and schedule!\n",
      "\n",
      "Are there any specific questions or concerns you have about this itinerary?\n",
      "\n",
      "--------------------------------------------------------------------------------\n"
     ]
    },
    {
     "name": "stderr",
     "output_type": "stream",
     "text": [
      "/Users/sachintripathi/Documents/Py_files/EXL_AgenticAI_Engineering/.venv/lib/python3.13/site-packages/autogen/oai/groq.py:315: UserWarning: Cost calculation not available for model llama-3.1-8b-instant\n",
      "  warnings.warn(f\"Cost calculation not available for model {model}\", UserWarning)\n",
      "Failed to export span batch code: 409, reason: \n",
      "\u001b\u0012\u0019payloads already received\n"
     ]
    },
    {
     "name": "stdout",
     "output_type": "stream",
     "text": [
      "\u001b[33mUser Agent\u001b[0m (to Assistant):\n",
      "\n",
      "no. Thank you. \n",
      "\n",
      "--------------------------------------------------------------------------------\n",
      "\u001b[31m\n",
      ">>>>>>>> USING AUTO REPLY...\u001b[0m\n",
      "\u001b[33mAssistant\u001b[0m (to User Agent):\n",
      "\n",
      "It was my pleasure to help you plan your trip to Prague. I hope you have a wonderful time exploring this beautiful city and creating unforgettable memories. Don't hesitate to reach out if you need any further assistance or recommendations.\n",
      "\n",
      "Before you go, I'd like to share some additional tips and resources that might be helpful:\n",
      "\n",
      "* Download the Prague public transportation app (PID) for easy navigation\n",
      "* Learn some basic Czech phrases, such as \"hello\" (ahoj), \"thank you\" (děkujeme), and \"excuse me\" (promiňte)\n",
      "* Try to avoid visiting during peak tourist season (June to August) for smaller crowds and lower prices\n",
      "* Consider purchasing a Prague Card for discounts and free access to many attractions and services\n",
      "\n",
      "Have a safe and enjoyable trip, and I wish you all the best for your future travels!\n",
      "\n",
      "--------------------------------------------------------------------------------\n"
     ]
    },
    {
     "name": "stderr",
     "output_type": "stream",
     "text": [
      "/Users/sachintripathi/Documents/Py_files/EXL_AgenticAI_Engineering/.venv/lib/python3.13/site-packages/autogen/oai/groq.py:315: UserWarning: Cost calculation not available for model llama-3.1-8b-instant\n",
      "  warnings.warn(f\"Cost calculation not available for model {model}\", UserWarning)\n",
      "Failed to export span batch code: 409, reason: \n",
      "\u001b\u0012\u0019payloads already received\n"
     ]
    },
    {
     "name": "stdout",
     "output_type": "stream",
     "text": [
      "\u001b[33mUser Agent\u001b[0m (to Assistant):\n",
      "\n",
      "ok. Thanks\n",
      "\n",
      "--------------------------------------------------------------------------------\n",
      "\u001b[31m\n",
      ">>>>>>>> USING AUTO REPLY...\u001b[0m\n",
      "\u001b[33mAssistant\u001b[0m (to User Agent):\n",
      "\n",
      "It was nice chatting with you. I hope you have a great time in Prague and that you create many wonderful memories. If you need any more assistance or have any other questions in the future, feel free to come back and ask. Have a great day and a wonderful trip!\n",
      "\n",
      "--------------------------------------------------------------------------------\n"
     ]
    },
    {
     "name": "stderr",
     "output_type": "stream",
     "text": [
      "/Users/sachintripathi/Documents/Py_files/EXL_AgenticAI_Engineering/.venv/lib/python3.13/site-packages/autogen/oai/groq.py:315: UserWarning: Cost calculation not available for model llama-3.1-8b-instant\n",
      "  warnings.warn(f\"Cost calculation not available for model {model}\", UserWarning)\n"
     ]
    },
    {
     "name": "stdout",
     "output_type": "stream",
     "text": [
      "\u001b[31m\n",
      ">>>>>>>> TERMINATING RUN (40e5829d-9df3-45ae-88fa-ebeffe357ead): User requested to end the conversation\u001b[0m\n"
     ]
    },
    {
     "name": "stderr",
     "output_type": "stream",
     "text": [
      "Failed to export span batch code: 409, reason: \n",
      "\u001b\u0012\u0019payloads already received\n"
     ]
    },
    {
     "name": "stdout",
     "output_type": "stream",
     "text": [
      "\u001b[33mUser Agent\u001b[0m (to Assistant):\n",
      "\n",
      "\n",
      "\n",
      "--------------------------------------------------------------------------------\n",
      "\u001b[31m\n",
      ">>>>>>>> USING AUTO REPLY...\u001b[0m\n",
      "\u001b[33mAssistant\u001b[0m (to User Agent):\n",
      "\n",
      "Welcome to our travel assistance service! We're excited to help you plan your next adventure. \n",
      "\n",
      "What kind of trip are you looking to take? \n",
      "\n",
      "A) Beach relaxation \n",
      "B) City exploration \n",
      "C) Nature and outdoor hiking \n",
      "D) Food and wine tour \n",
      "E) A mix of everything \n",
      "\n",
      "Please choose one (A, B, C, D, E), or let us know your specific travel preferences (country, city, or any specific requirements).\n",
      "\n",
      "--------------------------------------------------------------------------------\n"
     ]
    },
    {
     "name": "stderr",
     "output_type": "stream",
     "text": [
      "/Users/sachintripathi/Documents/Py_files/EXL_AgenticAI_Engineering/.venv/lib/python3.13/site-packages/autogen/oai/groq.py:315: UserWarning: Cost calculation not available for model llama-3.1-8b-instant\n",
      "  warnings.warn(f\"Cost calculation not available for model {model}\", UserWarning)\n"
     ]
    },
    {
     "name": "stdout",
     "output_type": "stream",
     "text": [
      "\u001b[33mUser Agent\u001b[0m (to Assistant):\n",
      "\n",
      "bye\n",
      "\n",
      "--------------------------------------------------------------------------------\n",
      "\u001b[31m\n",
      ">>>>>>>> USING AUTO REPLY...\u001b[0m\n",
      "\u001b[33mAssistant\u001b[0m (to User Agent):\n",
      "\n",
      "It was nice trying to help you plan your trip. If you change your mind and want to explore some amazing travel destinations or need help with planning, just come back and I'll be here to assist you.\n",
      "\n",
      "Have a wonderful day and happy travels (if you decide to take one!)\n",
      "\n",
      "--------------------------------------------------------------------------------\n"
     ]
    },
    {
     "name": "stderr",
     "output_type": "stream",
     "text": [
      "/Users/sachintripathi/Documents/Py_files/EXL_AgenticAI_Engineering/.venv/lib/python3.13/site-packages/autogen/oai/groq.py:315: UserWarning: Cost calculation not available for model llama-3.1-8b-instant\n",
      "  warnings.warn(f\"Cost calculation not available for model {model}\", UserWarning)\n",
      "Failed to export span batch code: 409, reason: \n",
      "\u001b\u0012\u0019payloads already received\n"
     ]
    },
    {
     "name": "stdout",
     "output_type": "stream",
     "text": [
      "\u001b[31m\n",
      ">>>>>>>> TERMINATING RUN (c543935b-9505-4fa5-9299-4993ac5a8dd6): User requested to end the conversation\u001b[0m\n"
     ]
    },
    {
     "ename": "KeyboardInterrupt",
     "evalue": "Interrupted by user",
     "output_type": "error",
     "traceback": [
      "\u001b[31m---------------------------------------------------------------------------\u001b[39m",
      "\u001b[31mKeyboardInterrupt\u001b[39m                         Traceback (most recent call last)",
      "\u001b[36mCell\u001b[39m\u001b[36m \u001b[39m\u001b[32mIn[1]\u001b[39m\u001b[32m, line 55\u001b[39m\n\u001b[32m     52\u001b[39m         user_proxy_agent.initiate_chat(assistant_agent, message = user_input)\n\u001b[32m     54\u001b[39m \u001b[38;5;28;01mif\u001b[39;00m \u001b[34m__name__\u001b[39m == \u001b[33m\"\u001b[39m\u001b[33m__main__\u001b[39m\u001b[33m\"\u001b[39m:\n\u001b[32m---> \u001b[39m\u001b[32m55\u001b[39m     \u001b[43mmain\u001b[49m\u001b[43m(\u001b[49m\u001b[43m)\u001b[49m       \n",
      "\u001b[36mCell\u001b[39m\u001b[36m \u001b[39m\u001b[32mIn[1]\u001b[39m\u001b[32m, line 48\u001b[39m, in \u001b[36mmain\u001b[39m\u001b[34m()\u001b[39m\n\u001b[32m     46\u001b[39m \u001b[38;5;28;01mdef\u001b[39;00m\u001b[38;5;250m \u001b[39m\u001b[34mmain\u001b[39m():\n\u001b[32m     47\u001b[39m     \u001b[38;5;28;01mwhile\u001b[39;00m \u001b[38;5;28;01mTrue\u001b[39;00m: \n\u001b[32m---> \u001b[39m\u001b[32m48\u001b[39m         user_input = \u001b[38;5;28;43minput\u001b[39;49m\u001b[43m(\u001b[49m\u001b[33;43m\"\u001b[39;49m\u001b[33;43mUser: \u001b[39;49m\u001b[33;43m\"\u001b[39;49m\u001b[43m)\u001b[49m\n\u001b[32m     49\u001b[39m         \u001b[38;5;28;01mif\u001b[39;00m user_input.lower() \u001b[38;5;129;01min\u001b[39;00m [\u001b[33m\"\u001b[39m\u001b[33mexit\u001b[39m\u001b[33m\"\u001b[39m, \u001b[33m\"\u001b[39m\u001b[33mquit\u001b[39m\u001b[33m\"\u001b[39m, \u001b[33m\"\u001b[39m\u001b[33mbye\u001b[39m\u001b[33m\"\u001b[39m]:\n\u001b[32m     50\u001b[39m             \u001b[38;5;28mprint\u001b[39m(\u001b[33m\"\u001b[39m\u001b[33mAssistant: Goodbye!\u001b[39m\u001b[33m\"\u001b[39m)\n",
      "\u001b[36mFile \u001b[39m\u001b[32m~/Documents/Py_files/EXL_AgenticAI_Engineering/.venv/lib/python3.13/site-packages/ipykernel/kernelbase.py:1275\u001b[39m, in \u001b[36mKernel.raw_input\u001b[39m\u001b[34m(self, prompt)\u001b[39m\n\u001b[32m   1273\u001b[39m     msg = \u001b[33m\"\u001b[39m\u001b[33mraw_input was called, but this frontend does not support input requests.\u001b[39m\u001b[33m\"\u001b[39m\n\u001b[32m   1274\u001b[39m     \u001b[38;5;28;01mraise\u001b[39;00m StdinNotImplementedError(msg)\n\u001b[32m-> \u001b[39m\u001b[32m1275\u001b[39m \u001b[38;5;28;01mreturn\u001b[39;00m \u001b[38;5;28;43mself\u001b[39;49m\u001b[43m.\u001b[49m\u001b[43m_input_request\u001b[49m\u001b[43m(\u001b[49m\n\u001b[32m   1276\u001b[39m \u001b[43m    \u001b[49m\u001b[38;5;28;43mstr\u001b[39;49m\u001b[43m(\u001b[49m\u001b[43mprompt\u001b[49m\u001b[43m)\u001b[49m\u001b[43m,\u001b[49m\n\u001b[32m   1277\u001b[39m \u001b[43m    \u001b[49m\u001b[38;5;28;43mself\u001b[39;49m\u001b[43m.\u001b[49m\u001b[43m_parent_ident\u001b[49m\u001b[43m[\u001b[49m\u001b[33;43m\"\u001b[39;49m\u001b[33;43mshell\u001b[39;49m\u001b[33;43m\"\u001b[39;49m\u001b[43m]\u001b[49m\u001b[43m,\u001b[49m\n\u001b[32m   1278\u001b[39m \u001b[43m    \u001b[49m\u001b[38;5;28;43mself\u001b[39;49m\u001b[43m.\u001b[49m\u001b[43mget_parent\u001b[49m\u001b[43m(\u001b[49m\u001b[33;43m\"\u001b[39;49m\u001b[33;43mshell\u001b[39;49m\u001b[33;43m\"\u001b[39;49m\u001b[43m)\u001b[49m\u001b[43m,\u001b[49m\n\u001b[32m   1279\u001b[39m \u001b[43m    \u001b[49m\u001b[43mpassword\u001b[49m\u001b[43m=\u001b[49m\u001b[38;5;28;43;01mFalse\u001b[39;49;00m\u001b[43m,\u001b[49m\n\u001b[32m   1280\u001b[39m \u001b[43m\u001b[49m\u001b[43m)\u001b[49m\n",
      "\u001b[36mFile \u001b[39m\u001b[32m~/Documents/Py_files/EXL_AgenticAI_Engineering/.venv/lib/python3.13/site-packages/ipykernel/kernelbase.py:1320\u001b[39m, in \u001b[36mKernel._input_request\u001b[39m\u001b[34m(self, prompt, ident, parent, password)\u001b[39m\n\u001b[32m   1317\u001b[39m \u001b[38;5;28;01mexcept\u001b[39;00m \u001b[38;5;167;01mKeyboardInterrupt\u001b[39;00m:\n\u001b[32m   1318\u001b[39m     \u001b[38;5;66;03m# re-raise KeyboardInterrupt, to truncate traceback\u001b[39;00m\n\u001b[32m   1319\u001b[39m     msg = \u001b[33m\"\u001b[39m\u001b[33mInterrupted by user\u001b[39m\u001b[33m\"\u001b[39m\n\u001b[32m-> \u001b[39m\u001b[32m1320\u001b[39m     \u001b[38;5;28;01mraise\u001b[39;00m \u001b[38;5;167;01mKeyboardInterrupt\u001b[39;00m(msg) \u001b[38;5;28;01mfrom\u001b[39;00m\u001b[38;5;250m \u001b[39m\u001b[38;5;28;01mNone\u001b[39;00m\n\u001b[32m   1321\u001b[39m \u001b[38;5;28;01mexcept\u001b[39;00m \u001b[38;5;167;01mException\u001b[39;00m:\n\u001b[32m   1322\u001b[39m     \u001b[38;5;28mself\u001b[39m.log.warning(\u001b[33m\"\u001b[39m\u001b[33mInvalid Message:\u001b[39m\u001b[33m\"\u001b[39m, exc_info=\u001b[38;5;28;01mTrue\u001b[39;00m)\n",
      "\u001b[31mKeyboardInterrupt\u001b[39m: Interrupted by user"
     ]
    }
   ],
   "source": [
    "from langsmith.integrations.otel import configure, OtelSpanProcessor\n",
    "from opentelemetry import trace\n",
    "from opentelemetry.sdk.trace import TracerProvider\n",
    "from openinference.instrumentation.groq import GroqInstrumentor\n",
    "from openinference.instrumentation.autogen import AutogenInstrumentor\n",
    "from autogen import ConversableAgent, UserProxyAgent\n",
    "from dotenv import load_dotenv\n",
    "import os\n",
    "\n",
    "load_dotenv()\n",
    "\n",
    "# Set the LangSmith project name\n",
    "configure(project_name = \"autogen_groq_obs\")\n",
    "\n",
    "tracer_provider = trace.get_tracer_provider()\n",
    "if not isinstance(tracer_provider, TracerProvider):\n",
    "    tracer_provider = TracerProvider()\n",
    "    trace.set_tracer_provider(tracer_provider)\n",
    "\n",
    "tracer_provider.add_span_processor(OtelSpanProcessor())\n",
    "\n",
    "# Instrument both Autogen and Groq calls\n",
    "AutogenInstrumentor().instrument()\n",
    "GroqInstrumentor().instrument()\n",
    "\n",
    "llm_config = {\n",
    "    \"config_list\": [\n",
    "        {\n",
    "            \"model\": \"llama-3.1-8b-instant\",\n",
    "            \"api_key\": os.getenv(\"GROQ_API_KEY\"),\n",
    "            \"api_type\": \"groq\"\n",
    "        }\n",
    "    ]\n",
    "}\n",
    "\n",
    "user_proxy_agent = UserProxyAgent(name = \"User Agent\", system_message = \"User proxy agent\")\n",
    "\n",
    "assistant_agent = ConversableAgent(\n",
    "    name = \"Assistant\", \n",
    "    system_message = \"You are a helpful travel assistant. You will provide a detailed and accurate information about \\\n",
    "    travel destinations, activities, and best times to visit. Offer personalised recommendations based on user's preferences.\", \n",
    "    llm_config = llm_config\n",
    ")\n",
    "\n",
    "\n",
    "def main():\n",
    "    while True: \n",
    "        user_input = input(\"User: \")\n",
    "        if user_input.lower() in [\"exit\", \"quit\", \"bye\"]:\n",
    "            print(\"Assistant: Goodbye!\")\n",
    "            break\n",
    "        user_proxy_agent.initiate_chat(assistant_agent, message = user_input)\n",
    "\n",
    "if __name__ == \"__main__\":\n",
    "    main()       "
   ]
  },
  {
   "cell_type": "code",
   "execution_count": null,
   "id": "07360e02",
   "metadata": {},
   "outputs": [],
   "source": []
  }
 ],
 "metadata": {
  "kernelspec": {
   "display_name": ".venv (3.13.3)",
   "language": "python",
   "name": "python3"
  },
  "language_info": {
   "codemirror_mode": {
    "name": "ipython",
    "version": 3
   },
   "file_extension": ".py",
   "mimetype": "text/x-python",
   "name": "python",
   "nbconvert_exporter": "python",
   "pygments_lexer": "ipython3",
   "version": "3.13.3"
  }
 },
 "nbformat": 4,
 "nbformat_minor": 5
}
