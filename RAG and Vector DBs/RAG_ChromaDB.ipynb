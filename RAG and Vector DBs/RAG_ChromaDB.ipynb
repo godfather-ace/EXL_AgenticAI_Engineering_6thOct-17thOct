{
 "cells": [
  {
   "cell_type": "markdown",
   "id": "7228872e",
   "metadata": {},
   "source": [
    "### Install the libraries"
   ]
  },
  {
   "cell_type": "code",
   "execution_count": 2,
   "id": "8dc3c735",
   "metadata": {},
   "outputs": [
    {
     "name": "stdout",
     "output_type": "stream",
     "text": [
      "\n",
      "\u001b[1m[\u001b[0m\u001b[34;49mnotice\u001b[0m\u001b[1;39;49m]\u001b[0m\u001b[39;49m A new release of pip is available: \u001b[0m\u001b[31;49m25.0.1\u001b[0m\u001b[39;49m -> \u001b[0m\u001b[32;49m25.2\u001b[0m\n",
      "\u001b[1m[\u001b[0m\u001b[34;49mnotice\u001b[0m\u001b[1;39;49m]\u001b[0m\u001b[39;49m To update, run: \u001b[0m\u001b[32;49mpip install --upgrade pip\u001b[0m\n"
     ]
    }
   ],
   "source": [
    "!pip install chromadb llama-index-vector-stores-chroma -q"
   ]
  },
  {
   "cell_type": "markdown",
   "id": "e4a9d909",
   "metadata": {},
   "source": [
    "### Import the libraries"
   ]
  },
  {
   "cell_type": "code",
   "execution_count": 6,
   "id": "47a8dd66",
   "metadata": {},
   "outputs": [],
   "source": [
    "from llama_index.core import(\n",
    "    Settings, \n",
    "    VectorStoreIndex, \n",
    "    StorageContext,\n",
    "    SimpleDirectoryReader\n",
    ")\n",
    "from llama_index.embeddings.huggingface import HuggingFaceEmbedding\n",
    "from llama_index.llms.groq import Groq\n",
    "from llama_index.vector_stores.chroma import ChromaVectorStore\n",
    "from dotenv import load_dotenv\n",
    "import chromadb\n",
    "import os"
   ]
  },
  {
   "cell_type": "markdown",
   "id": "1cbf711d",
   "metadata": {},
   "source": [
    "### Initialize the APIs"
   ]
  },
  {
   "cell_type": "code",
   "execution_count": 4,
   "id": "a4dc99da",
   "metadata": {},
   "outputs": [
    {
     "data": {
      "text/plain": [
       "True"
      ]
     },
     "execution_count": 4,
     "metadata": {},
     "output_type": "execute_result"
    }
   ],
   "source": [
    "# loading the .env file\n",
    "load_dotenv()"
   ]
  },
  {
   "cell_type": "markdown",
   "id": "3ac7b837",
   "metadata": {},
   "source": [
    "### LLM and Embedding Model Configuration"
   ]
  },
  {
   "cell_type": "code",
   "execution_count": 5,
   "id": "4fd19cfd",
   "metadata": {},
   "outputs": [],
   "source": [
    "llm = Groq(model = \"llama-3.1-8b-instant\")\n",
    "embed_model = HuggingFaceEmbedding(model_name = \"sentence-transformers/all-mpnet-base-v2\")\n",
    "\n",
    "Settings.llm = llm\n",
    "Settings.embed_model = embed_model"
   ]
  },
  {
   "cell_type": "markdown",
   "id": "3923e2dc",
   "metadata": {},
   "source": [
    "### Create a Chroma DB Collection "
   ]
  },
  {
   "cell_type": "code",
   "execution_count": 7,
   "id": "ead48cd1",
   "metadata": {},
   "outputs": [],
   "source": [
    "# create client and a new collection\n",
    "chroma_client = chromadb.EphemeralClient()\n",
    "chroma_collection = chroma_client.create_collection(\"AICopilot\")"
   ]
  },
  {
   "cell_type": "markdown",
   "id": "467e611b",
   "metadata": {},
   "source": [
    "### Loading the data"
   ]
  },
  {
   "cell_type": "code",
   "execution_count": 8,
   "id": "25549970",
   "metadata": {},
   "outputs": [],
   "source": [
    "documents = SimpleDirectoryReader(\"sample_data\").load_data()"
   ]
  },
  {
   "cell_type": "markdown",
   "id": "595fa44d",
   "metadata": {},
   "source": [
    "### Using Chroma Vector Store"
   ]
  },
  {
   "cell_type": "code",
   "execution_count": 9,
   "id": "619fb07b",
   "metadata": {},
   "outputs": [],
   "source": [
    "vector_store = ChromaVectorStore(chroma_collection=chroma_collection)\n",
    "storage_context = StorageContext.from_defaults(vector_store=vector_store)\n",
    "index = VectorStoreIndex.from_documents(\n",
    "    documents, storage_context=storage_context, embed_model=embed_model\n",
    ")"
   ]
  },
  {
   "cell_type": "markdown",
   "id": "65f21c7c",
   "metadata": {},
   "source": [
    "### Querying the stored data"
   ]
  },
  {
   "cell_type": "code",
   "execution_count": 10,
   "id": "48fe0a20",
   "metadata": {},
   "outputs": [
    {
     "name": "stderr",
     "output_type": "stream",
     "text": [
      "2025-10-13 22:07:47,330 - INFO - HTTP Request: POST https://api.groq.com/openai/v1/chat/completions \"HTTP/1.1 200 OK\"\n"
     ]
    }
   ],
   "source": [
    "query_engine = index.as_query_engine()\n",
    "response = query_engine.query(\"What are the different challenges in Copilots?\")"
   ]
  },
  {
   "cell_type": "code",
   "execution_count": 11,
   "id": "895033fc",
   "metadata": {},
   "outputs": [
    {
     "name": "stdout",
     "output_type": "stream",
     "text": [
      "There are several challenges associated with Copilots, including:\n",
      "\n",
      "1. Ensuring accurate and reliable information: Copilots rely on their knowledge base, which can be prone to errors or outdated information. This can lead to incorrect or misleading responses.\n",
      "\n",
      "2. Maintaining user trust: As Copilots become more integrated into our daily lives, there is a risk that users may become overly reliant on them, leading to a loss of critical thinking skills and potentially compromising decision-making.\n",
      "\n",
      "3. Balancing automation and human judgment: Copilots are designed to automate repetitive and mundane tasks, but they may not always be able to replicate the nuance and judgment of human decision-making.\n",
      "\n",
      "4. Managing the complexity of natural language: Copilots use natural language processing (NLP) to understand and respond to user input, but this can be a complex and challenging task, particularly when dealing with ambiguous or context-dependent language.\n",
      "\n",
      "5. Ensuring transparency and explainability: As Copilots become more sophisticated, it can be difficult to understand how they arrive at their conclusions or recommendations. This lack of transparency can make it challenging to trust their decisions.\n",
      "\n",
      "6. Addressing bias and fairness: Copilots can perpetuate existing biases and inequalities if they are trained on biased data or designed with a particular worldview in mind. This can lead to unfair or discriminatory outcomes.\n",
      "\n",
      "7. Managing the potential for job displacement: As Copilots become more capable of automating tasks, there is a risk that they may displace human workers, particularly in industries where tasks are repetitive or can be easily automated.\n",
      "\n",
      "8. Ensuring security and data protection: Copilots often rely on large amounts of user data, which can be a security risk if not properly protected. This can lead to data breaches or unauthorized access to sensitive information.\n"
     ]
    }
   ],
   "source": [
    "print(response)"
   ]
  },
  {
   "cell_type": "code",
   "execution_count": null,
   "id": "a00a72f6",
   "metadata": {},
   "outputs": [],
   "source": []
  }
 ],
 "metadata": {
  "kernelspec": {
   "display_name": ".venv (3.13.3)",
   "language": "python",
   "name": "python3"
  },
  "language_info": {
   "codemirror_mode": {
    "name": "ipython",
    "version": 3
   },
   "file_extension": ".py",
   "mimetype": "text/x-python",
   "name": "python",
   "nbconvert_exporter": "python",
   "pygments_lexer": "ipython3",
   "version": "3.13.3"
  }
 },
 "nbformat": 4,
 "nbformat_minor": 5
}
