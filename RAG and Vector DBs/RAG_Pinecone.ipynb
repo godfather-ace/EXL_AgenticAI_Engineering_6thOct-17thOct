{
 "cells": [
  {
   "cell_type": "markdown",
   "id": "7228872e",
   "metadata": {},
   "source": [
    "### Install the libraries"
   ]
  },
  {
   "cell_type": "code",
   "execution_count": 1,
   "id": "8dc3c735",
   "metadata": {},
   "outputs": [
    {
     "name": "stdout",
     "output_type": "stream",
     "text": [
      "\n",
      "\u001b[1m[\u001b[0m\u001b[34;49mnotice\u001b[0m\u001b[1;39;49m]\u001b[0m\u001b[39;49m A new release of pip is available: \u001b[0m\u001b[31;49m25.0.1\u001b[0m\u001b[39;49m -> \u001b[0m\u001b[32;49m25.2\u001b[0m\n",
      "\u001b[1m[\u001b[0m\u001b[34;49mnotice\u001b[0m\u001b[1;39;49m]\u001b[0m\u001b[39;49m To update, run: \u001b[0m\u001b[32;49mpip install --upgrade pip\u001b[0m\n"
     ]
    }
   ],
   "source": [
    "!pip install pinecone llama-index-vector-stores-pinecone -q"
   ]
  },
  {
   "cell_type": "markdown",
   "id": "e4a9d909",
   "metadata": {},
   "source": [
    "### Import the libraries"
   ]
  },
  {
   "cell_type": "code",
   "execution_count": 9,
   "id": "47a8dd66",
   "metadata": {},
   "outputs": [],
   "source": [
    "from llama_index.core import(\n",
    "    Settings, \n",
    "    VectorStoreIndex, \n",
    "    StorageContext,\n",
    "    SimpleDirectoryReader\n",
    ")\n",
    "from llama_index.embeddings.huggingface import HuggingFaceEmbedding\n",
    "from llama_index.llms.groq import Groq\n",
    "from llama_index.vector_stores.pinecone import PineconeVectorStore\n",
    "from pinecone import Pinecone, ServerlessSpec\n",
    "from dotenv import load_dotenv\n",
    "import os\n",
    "import time"
   ]
  },
  {
   "cell_type": "markdown",
   "id": "1cbf711d",
   "metadata": {},
   "source": [
    "### Initialize the APIs"
   ]
  },
  {
   "cell_type": "code",
   "execution_count": null,
   "id": "a4dc99da",
   "metadata": {},
   "outputs": [],
   "source": [
    "# loading the .env file\n",
    "load_dotenv()\n",
    "\n",
    "# initializing Groq and Pinecone APIs\n",
    "GROQ_API_KEY = os.environ[\"GROQ_API_KEY\"]\n",
    "PINECONE_API_KEY = os.environ[\"PINECONE_API_KEY\"]\n",
    "pc = Pinecone(api_key = PINECONE_API_KEY)"
   ]
  },
  {
   "cell_type": "markdown",
   "id": "3ac7b837",
   "metadata": {},
   "source": [
    "### LLM and Embedding Model Configuration"
   ]
  },
  {
   "cell_type": "code",
   "execution_count": 4,
   "id": "4fd19cfd",
   "metadata": {},
   "outputs": [
    {
     "data": {
      "application/vnd.jupyter.widget-view+json": {
       "model_id": "118a30ae324a44939735aeb440a55408",
       "version_major": 2,
       "version_minor": 0
      },
      "text/plain": [
       "README.md: 0.00B [00:00, ?B/s]"
      ]
     },
     "metadata": {},
     "output_type": "display_data"
    }
   ],
   "source": [
    "llm = Groq(model = \"llama-3.1-8b-instant\")\n",
    "embed_model = HuggingFaceEmbedding(model_name = \"sentence-transformers/all-mpnet-base-v2\")\n",
    "\n",
    "Settings.llm = llm\n",
    "Settings.embed_model = embed_model"
   ]
  },
  {
   "cell_type": "markdown",
   "id": "3923e2dc",
   "metadata": {},
   "source": [
    "### Pinecone Vector DB Creation"
   ]
  },
  {
   "cell_type": "code",
   "execution_count": null,
   "id": "ead48cd1",
   "metadata": {},
   "outputs": [
    {
     "data": {
      "text/plain": [
       "{'dimension': 768,\n",
       " 'index_fullness': 0.0,\n",
       " 'metric': 'cosine',\n",
       " 'namespaces': {},\n",
       " 'total_vector_count': 0,\n",
       " 'vector_type': 'dense'}"
      ]
     },
     "execution_count": 6,
     "metadata": {},
     "output_type": "execute_result"
    }
   ],
   "source": [
    "# setting index_name\n",
    "index_name = \"llama3-groq-pinecone\"\n",
    "\n",
    "# checking existing indexes\n",
    "existing_indexes = [\n",
    "    index_info[\"name\"] for index_info in pc.list_indexes()\n",
    "]\n",
    "\n",
    "# creating an index if it doesn't exists\n",
    "if index_name not in existing_indexes: \n",
    "    pc.create_index(\n",
    "        name = index_name, \n",
    "        dimension = 768, \n",
    "        metric = \"cosine\", \n",
    "        spec = ServerlessSpec(\n",
    "                cloud = \"aws\", \n",
    "                region = \"us-east-1\"\n",
    "        )\n",
    "    )\n",
    "\n",
    "# connecting to the created index\n",
    "index = pc.Index(index_name)\n",
    "time.sleep(1)\n",
    "\n",
    "# describing index statistics\n",
    "index.describe_index_stats()"
   ]
  },
  {
   "cell_type": "markdown",
   "id": "467e611b",
   "metadata": {},
   "source": [
    "### Loading the data"
   ]
  },
  {
   "cell_type": "code",
   "execution_count": 7,
   "id": "25549970",
   "metadata": {},
   "outputs": [],
   "source": [
    "documents = documents = SimpleDirectoryReader(\"sample_data\").load_data()"
   ]
  },
  {
   "cell_type": "markdown",
   "id": "595fa44d",
   "metadata": {},
   "source": [
    "### Using Pinecone Vector Store"
   ]
  },
  {
   "cell_type": "code",
   "execution_count": 10,
   "id": "619fb07b",
   "metadata": {},
   "outputs": [
    {
     "data": {
      "application/vnd.jupyter.widget-view+json": {
       "model_id": "160ea156d1744ec58a8a0678fb9da4a7",
       "version_major": 2,
       "version_minor": 0
      },
      "text/plain": [
       "Upserted vectors:   0%|          | 0/12 [00:00<?, ?it/s]"
      ]
     },
     "metadata": {},
     "output_type": "display_data"
    }
   ],
   "source": [
    "vector_store = PineconeVectorStore(pinecone_index = index)\n",
    "storage_context = StorageContext.from_defaults(vector_store = vector_store)\n",
    "index = VectorStoreIndex.from_documents(\n",
    "    documents, storage_context = storage_context\n",
    ")"
   ]
  },
  {
   "cell_type": "markdown",
   "id": "65f21c7c",
   "metadata": {},
   "source": [
    "### Querying the stored data"
   ]
  },
  {
   "cell_type": "code",
   "execution_count": 15,
   "id": "48fe0a20",
   "metadata": {},
   "outputs": [
    {
     "name": "stderr",
     "output_type": "stream",
     "text": [
      "2025-10-13 21:15:35,736 - INFO - HTTP Request: POST https://api.groq.com/openai/v1/chat/completions \"HTTP/1.1 200 OK\"\n"
     ]
    }
   ],
   "source": [
    "query_engine = index.as_query_engine()\n",
    "response = query_engine.query(\"What are the different challenges in Copilots?\")"
   ]
  },
  {
   "cell_type": "code",
   "execution_count": 16,
   "id": "895033fc",
   "metadata": {},
   "outputs": [
    {
     "name": "stdout",
     "output_type": "stream",
     "text": [
      "There are several challenges associated with Copilots, including:\n",
      "\n",
      "1. Ensuring accuracy and reliability: Copilots must be able to provide accurate and reliable information, which can be a challenge, especially when dealing with complex or nuanced topics.\n",
      "2. Adapting to user preferences: Copilots need to be able to adapt to individual user preferences and needs, which can be a challenge, especially if users have different communication styles or preferences.\n",
      "3. Handling ambiguity and uncertainty: Copilots often encounter ambiguous or uncertain language, which can be challenging to interpret and respond to.\n",
      "4. Maintaining knowledge base relevance: Copilots rely on a knowledge base that must be regularly updated and maintained to ensure it remains relevant and accurate.\n",
      "5. Balancing creativity and accuracy: Copilots must balance creativity and accuracy, as they need to provide innovative solutions while also ensuring that they are accurate and reliable.\n",
      "6. Managing user expectations: Copilots must manage user expectations and provide clear and concise information, which can be a challenge, especially if users have high expectations or are unfamiliar with the technology.\n",
      "7. Ensuring transparency and explainability: Copilots must be able to provide transparent and explainable responses, which can be a challenge, especially if users are unfamiliar with the underlying technology or algorithms.\n",
      "8. Handling emotional and social nuances: Copilots must be able to handle emotional and social nuances, such as empathy, tone, and context, which can be challenging to interpret and respond to.\n",
      "9. Maintaining user trust: Copilots must maintain user trust by providing accurate and reliable information, which can be a challenge, especially if users are unfamiliar with the technology or have had negative experiences with similar systems.\n",
      "10. Scaling and deployment: Copilots must be able to scale and deploy effectively, which can be a challenge, especially if they are complex systems that require significant resources and infrastructure.\n"
     ]
    }
   ],
   "source": [
    "print(response)"
   ]
  },
  {
   "cell_type": "code",
   "execution_count": null,
   "id": "a00a72f6",
   "metadata": {},
   "outputs": [],
   "source": []
  }
 ],
 "metadata": {
  "kernelspec": {
   "display_name": ".venv (3.13.3)",
   "language": "python",
   "name": "python3"
  },
  "language_info": {
   "codemirror_mode": {
    "name": "ipython",
    "version": 3
   },
   "file_extension": ".py",
   "mimetype": "text/x-python",
   "name": "python",
   "nbconvert_exporter": "python",
   "pygments_lexer": "ipython3",
   "version": "3.13.3"
  }
 },
 "nbformat": 4,
 "nbformat_minor": 5
}
